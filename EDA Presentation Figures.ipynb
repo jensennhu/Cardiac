{
 "cells": [
  {
   "cell_type": "code",
   "execution_count": null,
   "metadata": {},
   "outputs": [],
   "source": [
    "# %load Pipeline_logistic_reg_v2.py\n",
    "import pandas as pd\n",
    "import numpy as np\n",
    "import seaborn as sns\n",
    "from Clean_Fun import *\n",
    "from Meta_fun import *\n",
    "import matplotlib.pyplot as plt\n",
    "%load_ext autoreload\n",
    "%autoreload 2\n",
    "# %% Load dataset\n",
    "df=pd.read_csv('Data/after_merge.csv',index_col=0)\n",
    "# %% test patients, determing Response Value\n",
    "pd.set_option('display.max_columns', 60)\n",
    "\n",
    "df=meta_clean(df)\n",
    "#df[keep_cols].isnull().sum()\n",
    "\n",
    "df=df[df['outcome']!=2]\n",
    "# %%\n",
    "# load the columns I want to keep while modelling\n",
    "df.columns\n",
    "column_dict=read_pkl('Models/model_columns2.pkl')\n",
    "keep_cols=column_dict['keep_cols']\n",
    "pat_cols=column_dict['pat_cols']\n",
    "\n",
    "\n"
   ]
  },
  {
   "cell_type": "code",
   "execution_count": null,
   "metadata": {},
   "outputs": [],
   "source": [
    "df1=df[['patient_gender','ef', 'weight', 'this_weight_change_frac', 'weight_change_since_admit_frac', 'bnp', 'this_bnp_change', 'ace','bb','diuretics','anticoagulant','ionotropes', 'other_cardiac_meds', 'bun', 'cr', 'potasium', 'this_cr_change', 'resting_hr', 'systolic', 'diastolic', 'outcome', 'cad/mi', 'heart_failure_unspecfied', 'diastolic_heart_failure', 'systolic_chf', 'atrial_fibrilation', 'cardiomyoapthy', 'lvad', 'chf', 'duration', 'age']]"
   ]
  },
  {
   "cell_type": "markdown",
   "metadata": {},
   "source": [
    "# Weight change frac before imputation and transformation"
   ]
  },
  {
   "cell_type": "code",
   "execution_count": null,
   "metadata": {},
   "outputs": [],
   "source": [
    "sns.set(font_scale=2)\n",
    "#df1[df1['outcome']==1.0]['this_weight_change_frac'].hist(figsize=(10,10))\n",
    "df1[df1['outcome']==0.0]['this_weight_change_frac'].hist(figsize=(10,10))"
   ]
  },
  {
   "cell_type": "markdown",
   "metadata": {},
   "source": [
    "# EF before imputation and transformation"
   ]
  },
  {
   "cell_type": "code",
   "execution_count": null,
   "metadata": {},
   "outputs": [],
   "source": [
    "sns.set(font_scale=2)\n",
    "df1[df1['outcome']==1.0]['ef'].hist(figsize=(10,10))\n",
    "#df1[df1['outcome']==0.0]['ef'].hist(figsize=(10,10))"
   ]
  },
  {
   "cell_type": "markdown",
   "metadata": {},
   "source": [
    "# Correlation Matrix before "
   ]
  },
  {
   "cell_type": "code",
   "execution_count": null,
   "metadata": {},
   "outputs": [],
   "source": [
    "import seaborn as sns\n",
    "sns.set(font_scale=7)\n",
    "corrmat = df1.corr()\n",
    "plt.subplots(figsize=(60,50))\n",
    "sns.heatmap(corrmat)"
   ]
  },
  {
   "cell_type": "markdown",
   "metadata": {},
   "source": [
    "# Imputation"
   ]
  },
  {
   "cell_type": "code",
   "execution_count": null,
   "metadata": {},
   "outputs": [],
   "source": [
    "final_imputation(df)"
   ]
  },
  {
   "cell_type": "markdown",
   "metadata": {},
   "source": [
    "# EF after Imputation"
   ]
  },
  {
   "cell_type": "code",
   "execution_count": null,
   "metadata": {},
   "outputs": [],
   "source": [
    "sns.set(font_scale=2)\n",
    "#df[df['outcome']==1.0]['ef'].hist(figsize=(10,10))\n",
    "df[df['outcome']==0.0]['ef'].hist(figsize=(10,10))"
   ]
  },
  {
   "cell_type": "markdown",
   "metadata": {},
   "source": [
    "# Distributions on EF, Weight , BNP, CR, Potassium before Transformation"
   ]
  },
  {
   "cell_type": "code",
   "execution_count": null,
   "metadata": {
    "scrolled": false
   },
   "outputs": [],
   "source": [
    "#Distribution before log trans\n",
    "from scipy import stats\n",
    "from scipy.stats import norm, skew \n",
    "%matplotlib inline\n",
    "import matplotlib.pyplot as plt \n",
    "import seaborn as sns\n",
    "import warnings\n",
    "warnings.filterwarnings(\"ignore\")\n",
    "sns.set(font_scale=4)\n",
    "\n",
    "cols=['ef', 'weight', 'bnp','bun', 'cr', 'potasium']\n",
    "\n",
    "for col in cols:\n",
    "    plt.figure(figsize=(25,25))\n",
    "    plt.hist(train(df)[col].dropna())\n",
    "    plt.title(str(col))\n",
    "    plt.show()\n",
    "\n"
   ]
  },
  {
   "cell_type": "code",
   "execution_count": null,
   "metadata": {},
   "outputs": [],
   "source": [
    "\n",
    "# we have 47 duration and 12 acute/chronic that we are currently dropping\n",
    "df[keep_cols].isnull().sum()\n",
    "\n",
    "###### any transformations will go here ########\n",
    "log_cols=['ef', 'weight', 'bnp','bun', 'cr', 'potasium']\n",
    "df[log_cols].isnull().sum()\n"
   ]
  },
  {
   "cell_type": "markdown",
   "metadata": {},
   "source": [
    "# Distribution on EF, Weight , BNP, CR, Potassium with Log Transformation"
   ]
  },
  {
   "cell_type": "code",
   "execution_count": null,
   "metadata": {
    "scrolled": true
   },
   "outputs": [],
   "source": [
    "for col in log_cols:\n",
    "    plt.figure(figsize=(25,25))\n",
    "    df[col]=np.log1p(df[col]+1)\n",
    "    plt.hist(train(df)[col].dropna())\n",
    "    plt.title(str(col))\n",
    "    plt.show()\n",
    "# %%\n"
   ]
  },
  {
   "cell_type": "markdown",
   "metadata": {},
   "source": [
    "# Weight change after imputation and transformation"
   ]
  },
  {
   "cell_type": "code",
   "execution_count": null,
   "metadata": {},
   "outputs": [],
   "source": [
    "sns.set(font_scale=2)\n",
    "#df1[df1['outcome']==1.0]['this_weight_change_frac'].hist(figsize=(10,10))\n",
    "df1[df1['outcome']==0.0]['this_weight_change_frac'].hist(figsize=(10,10))"
   ]
  },
  {
   "cell_type": "markdown",
   "metadata": {},
   "source": [
    "# EF after imputation and transformation"
   ]
  },
  {
   "cell_type": "code",
   "execution_count": null,
   "metadata": {},
   "outputs": [],
   "source": [
    "sns.set(font_scale=2)\n",
    "df[df['outcome']==1.0]['ef'].hist(figsize=(10,10))\n",
    "#df[df['outcome']==0.0]['ef'].hist(figsize=(10,10))\n"
   ]
  },
  {
   "cell_type": "markdown",
   "metadata": {},
   "source": [
    "# Correlation Matrix AFter imputation and transformation"
   ]
  },
  {
   "cell_type": "code",
   "execution_count": null,
   "metadata": {},
   "outputs": [],
   "source": [
    "df1=df[['patient_gender','ef', 'weight', 'this_weight_change_frac', 'weight_change_since_admit_frac', 'bnp', 'this_bnp_change', 'ace','bb','diuretics','anticoagulant','ionotropes', 'other_cardiac_meds', 'bun', 'cr', 'potasium', 'this_cr_change', 'resting_hr', 'systolic', 'diastolic', 'outcome', 'cad/mi', 'heart_failure_unspecfied', 'diastolic_heart_failure', 'systolic_chf', 'atrial_fibrilation', 'cardiomyoapthy', 'lvad', 'chf', 'duration', 'age']]\n",
    "import seaborn as sns\n",
    "sns.set(font_scale=8)\n",
    "corrmat = df1.corr()\n",
    "plt.subplots(figsize=(60,50))\n",
    "sns.heatmap(corrmat)"
   ]
  },
  {
   "cell_type": "code",
   "execution_count": null,
   "metadata": {},
   "outputs": [],
   "source": []
  }
 ],
 "metadata": {
  "kernelspec": {
   "display_name": "Python 3",
   "language": "python",
   "name": "python3"
  },
  "language_info": {
   "codemirror_mode": {
    "name": "ipython",
    "version": 3
   },
   "file_extension": ".py",
   "mimetype": "text/x-python",
   "name": "python",
   "nbconvert_exporter": "python",
   "pygments_lexer": "ipython3",
   "version": "3.6.5"
  }
 },
 "nbformat": 4,
 "nbformat_minor": 2
}
